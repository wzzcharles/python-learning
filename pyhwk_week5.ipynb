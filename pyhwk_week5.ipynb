{
 "cells": [
  {
   "cell_type": "code",
   "execution_count": 10,
   "id": "ec0ce88f",
   "metadata": {},
   "outputs": [],
   "source": [
    "import turtle as tl\n",
    "import numpy as np\n",
    "import random as rd\n",
    "import pandas as pd"
   ]
  },
  {
   "cell_type": "code",
   "execution_count": 11,
   "id": "d28f06db",
   "metadata": {},
   "outputs": [
    {
     "name": "stderr",
     "output_type": "stream",
     "text": [
      "D:\\Program Files\\Anaconda\\lib\\site-packages\\openpyxl\\styles\\stylesheet.py:226: UserWarning: Workbook contains no default style, apply openpyxl's default\n",
      "  warn(\"Workbook contains no default style, apply openpyxl's default\")\n"
     ]
    }
   ],
   "source": [
    "def readnum():\n",
    "    fd = pd.read_excel('体彩大乐透-问卷统计详情.xlsx')\n",
    "    name = fd.iloc[5:,0].values\n",
    "    f5 = fd.iloc[5:,8].values\n",
    "    b2 = fd.iloc[5:,9].values\n",
    "    return name, f5, b2\n",
    "    print(f5)\n",
    "    \n",
    "if __name__ == '__main__':\n",
    "    name, f5, b2 = readnum()\n",
    "    #print(name, f5, b2)\n",
    "    "
   ]
  },
  {
   "cell_type": "code",
   "execution_count": null,
   "id": "20dcf04c",
   "metadata": {},
   "outputs": [],
   "source": []
  }
 ],
 "metadata": {
  "kernelspec": {
   "display_name": "Python 3 (ipykernel)",
   "language": "python",
   "name": "python3"
  },
  "language_info": {
   "codemirror_mode": {
    "name": "ipython",
    "version": 3
   },
   "file_extension": ".py",
   "mimetype": "text/x-python",
   "name": "python",
   "nbconvert_exporter": "python",
   "pygments_lexer": "ipython3",
   "version": "3.9.7"
  }
 },
 "nbformat": 4,
 "nbformat_minor": 5
}
